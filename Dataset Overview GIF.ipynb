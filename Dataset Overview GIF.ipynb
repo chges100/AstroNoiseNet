{
 "cells": [
  {
   "cell_type": "code",
   "execution_count": null,
   "metadata": {},
   "outputs": [],
   "source": [
    "import glob\n",
    "from astropy.utils.data import get_pkg_data_filename\n",
    "from astropy.io import fits\n",
    "import numpy as np\n",
    "from tqdm import tqdm\n",
    "import stretch\n",
    "import matplotlib.pyplot as plt\n",
    "from PIL import Image, ImageEnhance\n",
    "\n",
    "sigma = 1.5\n",
    "bg = 0.2\n",
    "\n",
    "data_path = '../data/calibrated/'\n",
    "short_files = sorted(glob.glob(data_path+'Short/*'))\n",
    "longs_files = sorted(glob.glob(data_path+'Long/*'))\n",
    "shorts,longs = [],[]\n",
    "load_raw = True\n",
    "for (i,j) in tqdm(zip(short_files, longs_files)):\n",
    "    filename = i.split('/')[-1].split('.')[0]\n",
    "    if load_raw:\n",
    "        print(i,j)\n",
    "        short_linear = np.swapaxes(np.swapaxes(fits.getdata(get_pkg_data_filename(i), ext=0),0,2),0,1)\n",
    "        long_linear = np.swapaxes(np.swapaxes(fits.getdata(get_pkg_data_filename(j), ext=0),0,2),0,1)\n",
    "        median = [np.median(short_linear[:,:,c]) for c in range(3)]\n",
    "        mad = [np.median(np.abs(short_linear[:,:,c] - median[c]))for c in range(3)]\n",
    "        long, short = stretch.stretch(long_linear, short_linear, bg, sigma, median, mad)\n",
    "        \n",
    "        # dump jpg\n",
    "        short_jpg = np.array(ImageEnhance.Color(Image.fromarray((np.clip(short,0,1)*255).astype(np.uint8))).enhance(2.0)) \n",
    "        long_jpg = np.array(ImageEnhance.Color(Image.fromarray((np.clip(long,0,1)*255).astype(np.uint8))).enhance(2.0)) \n",
    "        \n",
    "        Image.fromarray(short_jpg).save(\"../data/thumbnails/short_\"+filename+\".jpg\")\n",
    "        Image.fromarray(long_jpg).save(\"../data/thumbnails/long_\"+filename+\".jpg\")\n",
    "        \n",
    "        shorts.append(short_jpg)\n",
    "        longs.append(long_jpg)\n",
    "    else:\n",
    "        shorts.append(plt.imread(\"../data/thumbnails/short_\"+filename+\".jpg\"))\n",
    "        longs.append(plt.imread(\"../data/thumbnails/long_\"+filename+\".jpg\"))\n",
    "shorts = np.array(shorts)\n",
    "longs = np.array(longs)\n",
    "longs.shape, shorts.shape"
   ]
  },
  {
   "cell_type": "code",
   "execution_count": null,
   "metadata": {
    "scrolled": false
   },
   "outputs": [],
   "source": [
    "plt.style.use('dark_background')\n",
    "subsampling = 4\n",
    "patch_size=256\n",
    "scale = 2\n",
    "\n",
    "for k, imgs in enumerate([shorts, longs]):\n",
    "    fig, axarr = plt.subplots(7,2, figsize=(4*2*scale,3*7*scale), sharex=True, sharey=True)\n",
    "    for i in tqdm(range(len(imgs))):\n",
    "        ax = axarr[i//2,i%2]\n",
    "        ax.set_title(short_files[i].split('/')[-1].split('.')[0], fontsize=16)\n",
    "        ax.imshow(imgs[i][::-1], origin=\"lower\")\n",
    "        ax.set_xticks([])\n",
    "        ax.set_yticks([])\n",
    "\n",
    "        axins = ax.inset_axes([-0.06125, 0.025, 0.5, 0.5])\n",
    "        axins.imshow(imgs[i][::-1], origin=\"lower\")\n",
    "        centerx = imgs[i].shape[1]//2\n",
    "        centery = imgs[i].shape[0]//2\n",
    "        x1, x2, y1, y2 = centerx-patch_size//2, centerx+patch_size//2, centery-patch_size//2, centery+patch_size//2\n",
    "        axins.set_xlim(x1, x2)\n",
    "        axins.set_ylim(y1, y2)\n",
    "        axins.set_xticks([])\n",
    "        axins.set_yticks([])\n",
    "        ax.indicate_inset_zoom(axins, edgecolor=\"white\")\n",
    "        #break\n",
    "    plt.tight_layout()\n",
    "    if k == 0:\n",
    "        plt.savefig('shorts.jpg', bbox_inches='tight', pad_inches=0, dpi=150)\n",
    "    elif k == 1:\n",
    "        plt.savefig('longs.jpg', bbox_inches='tight', pad_inches=0, dpi=150)\n",
    "    plt.show()"
   ]
  },
  {
   "cell_type": "markdown",
   "metadata": {},
   "source": [
    "# Cluster colors to 256 kmeans clusters"
   ]
  },
  {
   "cell_type": "code",
   "execution_count": null,
   "metadata": {},
   "outputs": [],
   "source": [
    "from sklearn.cluster import KMeans\n",
    "from tqdm import tqdm\n",
    "\n",
    "gif = np.array([plt.imread('shorts.jpg'), plt.imread('longs.jpg')])\n",
    "print(gif.shape)\n",
    "rgbs = np.concatenate([g.reshape([np.prod(g.shape[:2]),3]) for g in gif])\n",
    "print(rgbs.shape)\n",
    "\n",
    "kmeans = KMeans(n_clusters=256)\n",
    "kmeans.fit(rgbs[::100])\n",
    "pred = kmeans.predict(rgbs)\n",
    "\n",
    "crgbs = np.array([kmeans.cluster_centers_[x] for x in tqdm(pred)]).reshape([2,gif.shape[1],gif.shape[2],3]).astype(np.uint8)\n",
    "\n",
    "plt.imshow(crgbs[0])\n",
    "plt.show()"
   ]
  },
  {
   "cell_type": "markdown",
   "metadata": {},
   "source": [
    "# Dump GIF"
   ]
  },
  {
   "cell_type": "code",
   "execution_count": null,
   "metadata": {},
   "outputs": [],
   "source": [
    "import imageio\n",
    "from IPython import display\n",
    "\n",
    "imageio.mimsave('dataset.gif', crgbs, fps=1)\n",
    "display.Image(open(\"dataset.gif\",'rb').read())"
   ]
  }
 ],
 "metadata": {
  "kernelspec": {
   "display_name": "Python 3",
   "language": "python",
   "name": "python3"
  },
  "language_info": {
   "codemirror_mode": {
    "name": "ipython",
    "version": 3
   },
   "file_extension": ".py",
   "mimetype": "text/x-python",
   "name": "python",
   "nbconvert_exporter": "python",
   "pygments_lexer": "ipython3",
   "version": "3.9.5"
  },
  "vscode": {
   "interpreter": {
    "hash": "3eb3cd9fdbc0719851a4380fffe7ece2b5b78cd0f74f0d3aa71a3a65ca2a8c49"
   }
  }
 },
 "nbformat": 4,
 "nbformat_minor": 2
}
